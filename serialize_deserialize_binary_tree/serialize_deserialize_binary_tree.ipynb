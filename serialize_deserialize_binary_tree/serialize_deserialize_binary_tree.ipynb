{
 "cells": [
  {
   "cell_type": "code",
   "execution_count": 1,
   "metadata": {},
   "outputs": [],
   "source": [
    "class TreeNode(object):\n",
    "    def __init__(self, x):\n",
    "        self.val = x\n",
    "        self.left = None\n",
    "        self.right = None"
   ]
  },
  {
   "cell_type": "code",
   "execution_count": 35,
   "metadata": {},
   "outputs": [],
   "source": [
    "class Codec:\n",
    "    def __init__(self, root):\n",
    "        self.root = root\n",
    "        self.serialized_tree = []\n",
    "        return\n",
    "    \n",
    "    def serialize_tree(self):\n",
    "        self._serialize(self.root, 0)\n",
    "        return\n",
    "    \n",
    "    def deserialize_tree(self):\n",
    "        root, idx = self._find_node(self.serialized_tree, 0)\n",
    "        return self._deserialize(root, 0, self.serialized_tree[:idx], self.serialized_tree[idx+1:])\n",
    "    \n",
    "    def _serialize(self, root, level):\n",
    "        if not root:\n",
    "            return\n",
    "        self._serialize(root.left, level + 1)\n",
    "        self.serialized_tree.append((root.val, level))\n",
    "        self._serialize(root.right, level + 1)\n",
    "        return\n",
    "    \n",
    "    def _find_node(self, tree, level):\n",
    "        root, idx = None, 0\n",
    "        for i, (node, l) in enumerate(tree):\n",
    "            if l == level:\n",
    "                root = node\n",
    "                idx = i\n",
    "                break\n",
    "        return root, idx\n",
    "    \n",
    "    def _deserialize(self, root, level, left_tree, right_tree):\n",
    "        if not root:\n",
    "            return\n",
    "        root_node = TreeNode(root)\n",
    "        left_node, left_idx = self._find_node(left_tree, level+1)\n",
    "        right_node, right_idx = self._find_node(right_tree, level+1)\n",
    "        if left_node is not None:\n",
    "            left_node = self._deserialize(left_node, level+1, left_tree[:left_idx], left_tree[left_idx+1:])\n",
    "            root_node.left = left_node\n",
    "        if right_node is not None:\n",
    "            right_node = self._deserialize(right_node, level+1, right_tree[:right_idx], right_tree[right_idx+1:])\n",
    "            root_node.right = right_node\n",
    "        return root_node"
   ]
  },
  {
   "cell_type": "code",
   "execution_count": 36,
   "metadata": {},
   "outputs": [],
   "source": [
    "root = TreeNode(1)\n",
    "root.left = TreeNode(2)\n",
    "root.right = TreeNode(3)\n",
    "root.right.left = TreeNode(4)\n",
    "root.right.right = TreeNode(5)"
   ]
  },
  {
   "cell_type": "code",
   "execution_count": 37,
   "metadata": {},
   "outputs": [],
   "source": [
    "serializer = Codec(root)"
   ]
  },
  {
   "cell_type": "code",
   "execution_count": 38,
   "metadata": {},
   "outputs": [],
   "source": [
    "serializer.serialize_tree()"
   ]
  },
  {
   "cell_type": "code",
   "execution_count": 39,
   "metadata": {},
   "outputs": [
    {
     "data": {
      "text/plain": [
       "[(2, 1), (1, 0), (4, 2), (3, 1), (5, 2)]"
      ]
     },
     "execution_count": 39,
     "metadata": {},
     "output_type": "execute_result"
    }
   ],
   "source": [
    "serializer.serialized_tree"
   ]
  },
  {
   "cell_type": "code",
   "execution_count": 40,
   "metadata": {},
   "outputs": [],
   "source": [
    "r = serializer.deserialize_tree()"
   ]
  },
  {
   "cell_type": "code",
   "execution_count": 42,
   "metadata": {},
   "outputs": [
    {
     "data": {
      "text/plain": [
       "2"
      ]
     },
     "execution_count": 42,
     "metadata": {},
     "output_type": "execute_result"
    }
   ],
   "source": [
    "r.val;r.left.val"
   ]
  },
  {
   "cell_type": "code",
   "execution_count": null,
   "metadata": {},
   "outputs": [],
   "source": [
    "O(n log n) runtime"
   ]
  }
 ],
 "metadata": {
  "kernelspec": {
   "display_name": "Python 3",
   "language": "python",
   "name": "python3"
  },
  "language_info": {
   "codemirror_mode": {
    "name": "ipython",
    "version": 3
   },
   "file_extension": ".py",
   "mimetype": "text/x-python",
   "name": "python",
   "nbconvert_exporter": "python",
   "pygments_lexer": "ipython3",
   "version": "3.8.1"
  }
 },
 "nbformat": 4,
 "nbformat_minor": 4
}
