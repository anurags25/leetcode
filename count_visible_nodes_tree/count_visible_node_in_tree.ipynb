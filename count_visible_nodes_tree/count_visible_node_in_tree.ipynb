{
 "cells": [
  {
   "cell_type": "code",
   "execution_count": 1,
   "metadata": {},
   "outputs": [],
   "source": [
    "class TreeNode:\n",
    "    def __init__(self, val):\n",
    "        self.val = val\n",
    "        self.right = None\n",
    "        self.left = None\n",
    "    \n",
    "    def __repr__(self):\n",
    "        return str(self.val)"
   ]
  },
  {
   "cell_type": "code",
   "execution_count": 2,
   "metadata": {},
   "outputs": [],
   "source": [
    "def traverse(start, max_height, nodes):\n",
    "    if start is None:\n",
    "        return\n",
    "    if start.val >= max_height:\n",
    "        max_height = start.val\n",
    "        nodes.append(start.val)\n",
    "    traverse(start.left, max_height, nodes)\n",
    "    traverse(start.right, max_height, nodes)\n",
    "    return nodes\n",
    "\n",
    "def count_nodes(root):\n",
    "    visible_nodes = []\n",
    "    traverse(root, root.val, visible_nodes)\n",
    "    print (visible_nodes)\n",
    "    count = len(visible_nodes)\n",
    "    return count"
   ]
  },
  {
   "cell_type": "code",
   "execution_count": 3,
   "metadata": {},
   "outputs": [],
   "source": [
    "root = TreeNode(5)\n",
    "root.left = TreeNode(3)\n",
    "root.right = TreeNode(10)\n",
    "root.left.left = TreeNode(20)\n",
    "root.left.right = TreeNode(21)\n",
    "root.right.left = TreeNode(1)"
   ]
  },
  {
   "cell_type": "code",
   "execution_count": 4,
   "metadata": {},
   "outputs": [
    {
     "name": "stdout",
     "output_type": "stream",
     "text": [
      "[5, 20, 21, 10]\n"
     ]
    },
    {
     "data": {
      "text/plain": [
       "4"
      ]
     },
     "execution_count": 4,
     "metadata": {},
     "output_type": "execute_result"
    }
   ],
   "source": [
    "count_nodes(root)"
   ]
  },
  {
   "cell_type": "code",
   "execution_count": 5,
   "metadata": {},
   "outputs": [],
   "source": [
    "from collections import deque\n",
    "\n",
    "def count_nodes(root):\n",
    "    visible_nodes = []\n",
    "    q = deque([(root, root.val)])\n",
    "    while q:\n",
    "        node, height = q.popleft()\n",
    "        if node.val >= height:\n",
    "            visible_nodes.append(node.val)\n",
    "        if node.left:\n",
    "            q.append((node.left, max(node.val, height)))\n",
    "        if node.right:\n",
    "            q.append((node.right, max(node.val, height)))\n",
    "    print (visible_nodes)\n",
    "    count = len(visible_nodes)\n",
    "    return count"
   ]
  },
  {
   "cell_type": "code",
   "execution_count": 6,
   "metadata": {},
   "outputs": [],
   "source": [
    "root = TreeNode(-10)\n",
    "root.right = TreeNode(-15)\n",
    "root.right.right = TreeNode(-1)"
   ]
  },
  {
   "cell_type": "code",
   "execution_count": 7,
   "metadata": {},
   "outputs": [
    {
     "name": "stdout",
     "output_type": "stream",
     "text": [
      "[-10, -1]\n"
     ]
    },
    {
     "data": {
      "text/plain": [
       "2"
      ]
     },
     "execution_count": 7,
     "metadata": {},
     "output_type": "execute_result"
    }
   ],
   "source": [
    "count_nodes(root)"
   ]
  },
  {
   "cell_type": "code",
   "execution_count": null,
   "metadata": {},
   "outputs": [],
   "source": []
  }
 ],
 "metadata": {
  "kernelspec": {
   "display_name": "Python 3",
   "language": "python",
   "name": "python3"
  },
  "language_info": {
   "codemirror_mode": {
    "name": "ipython",
    "version": 3
   },
   "file_extension": ".py",
   "mimetype": "text/x-python",
   "name": "python",
   "nbconvert_exporter": "python",
   "pygments_lexer": "ipython3",
   "version": "3.8.1"
  }
 },
 "nbformat": 4,
 "nbformat_minor": 4
}
